{
 "cells": [
  {
   "cell_type": "code",
   "execution_count": 210,
   "metadata": {},
   "outputs": [],
   "source": [
    "from numpy import array\n",
    "import pandas as pd\n",
    "import numpy as np\n",
    "import re\n",
    "\n",
    "import matplotlib.pyplot as plt"
   ]
  },
  {
   "cell_type": "code",
   "execution_count": 211,
   "metadata": {},
   "outputs": [],
   "source": [
    "df = pd.read_csv(\"ProductData.csv\", low_memory=False)"
   ]
  },
  {
   "cell_type": "code",
   "execution_count": 212,
   "metadata": {},
   "outputs": [],
   "source": [
    "# df[~df['detail_category'].isnull()]"
   ]
  },
  {
   "cell_type": "code",
   "execution_count": 213,
   "metadata": {},
   "outputs": [
    {
     "data": {
      "text/plain": [
       "(1114055, 19)"
      ]
     },
     "execution_count": 213,
     "metadata": {},
     "output_type": "execute_result"
    }
   ],
   "source": [
    "df.shape"
   ]
  },
  {
   "cell_type": "code",
   "execution_count": 214,
   "metadata": {},
   "outputs": [],
   "source": [
    "df[\"category\"] = df[\"category\"].fillna(\"Unclassified\")\n",
    "df[\"subcategory\"] = df[\"subcategory\"].fillna(\"Unclassified\")\n",
    "df[\"detail_category\"] = df[\"detail_category\"].fillna(\"Unclassified\")"
   ]
  },
  {
   "cell_type": "code",
   "execution_count": 215,
   "metadata": {},
   "outputs": [
    {
     "data": {
      "text/plain": [
       "2985"
      ]
     },
     "execution_count": 215,
     "metadata": {},
     "output_type": "execute_result"
    }
   ],
   "source": [
    "# df['category'].value_counts().plot(kind='barh',color='coral')\n",
    "# plt.show()\n",
    "len(list(df['category'].unique()))"
   ]
  },
  {
   "cell_type": "code",
   "execution_count": 216,
   "metadata": {},
   "outputs": [
    {
     "data": {
      "text/plain": [
       "240"
      ]
     },
     "execution_count": 216,
     "metadata": {},
     "output_type": "execute_result"
    }
   ],
   "source": [
    "# df['subcategory'].value_counts().plot(kind='barh',color='blue')\n",
    "# plt.show()\n",
    "len(list(df['subcategory'].unique()))"
   ]
  },
  {
   "cell_type": "code",
   "execution_count": 217,
   "metadata": {},
   "outputs": [
    {
     "data": {
      "text/plain": [
       "545"
      ]
     },
     "execution_count": 217,
     "metadata": {},
     "output_type": "execute_result"
    }
   ],
   "source": [
    "len(list(df['detail_category'].unique()))"
   ]
  },
  {
   "cell_type": "code",
   "execution_count": 218,
   "metadata": {},
   "outputs": [],
   "source": [
    "data = df[[\"product_name\", \"category\", \"subcategory\", \"detail_category\"]].copy()"
   ]
  },
  {
   "cell_type": "code",
   "execution_count": 219,
   "metadata": {},
   "outputs": [
    {
     "data": {
      "text/html": [
       "<div>\n",
       "<style scoped>\n",
       "    .dataframe tbody tr th:only-of-type {\n",
       "        vertical-align: middle;\n",
       "    }\n",
       "\n",
       "    .dataframe tbody tr th {\n",
       "        vertical-align: top;\n",
       "    }\n",
       "\n",
       "    .dataframe thead th {\n",
       "        text-align: right;\n",
       "    }\n",
       "</style>\n",
       "<table border=\"1\" class=\"dataframe\">\n",
       "  <thead>\n",
       "    <tr style=\"text-align: right;\">\n",
       "      <th></th>\n",
       "      <th>product_name</th>\n",
       "      <th>category</th>\n",
       "      <th>subcategory</th>\n",
       "      <th>detail_category</th>\n",
       "    </tr>\n",
       "  </thead>\n",
       "  <tbody>\n",
       "    <tr>\n",
       "      <th>0</th>\n",
       "      <td>Atlas Homewares A916-PN 6-5/16 in. Platform Pu...</td>\n",
       "      <td>Unclassified</td>\n",
       "      <td>Unclassified</td>\n",
       "      <td>Unclassified</td>\n",
       "    </tr>\n",
       "    <tr>\n",
       "      <th>1</th>\n",
       "      <td>Atlas Homewares A917 Platform 11-5/16 Inch Cen...</td>\n",
       "      <td>Unclassified</td>\n",
       "      <td>Unclassified</td>\n",
       "      <td>Unclassified</td>\n",
       "    </tr>\n",
       "    <tr>\n",
       "      <th>2</th>\n",
       "      <td>Platform Pull 11 5/16 Inch Polished Chrome</td>\n",
       "      <td>Unclassified</td>\n",
       "      <td>Unclassified</td>\n",
       "      <td>Unclassified</td>\n",
       "    </tr>\n",
       "    <tr>\n",
       "      <th>3</th>\n",
       "      <td>Platform Pull 11 5/16 Inch Polished Nickel</td>\n",
       "      <td>Unclassified</td>\n",
       "      <td>Unclassified</td>\n",
       "      <td>Unclassified</td>\n",
       "    </tr>\n",
       "    <tr>\n",
       "      <th>4</th>\n",
       "      <td>Atlas Homewares A918 Wide Square 3-3/4 Inch Ce...</td>\n",
       "      <td>Unclassified</td>\n",
       "      <td>Unclassified</td>\n",
       "      <td>Unclassified</td>\n",
       "    </tr>\n",
       "  </tbody>\n",
       "</table>\n",
       "</div>"
      ],
      "text/plain": [
       "                                        product_name      category  \\\n",
       "0  Atlas Homewares A916-PN 6-5/16 in. Platform Pu...  Unclassified   \n",
       "1  Atlas Homewares A917 Platform 11-5/16 Inch Cen...  Unclassified   \n",
       "2         Platform Pull 11 5/16 Inch Polished Chrome  Unclassified   \n",
       "3         Platform Pull 11 5/16 Inch Polished Nickel  Unclassified   \n",
       "4  Atlas Homewares A918 Wide Square 3-3/4 Inch Ce...  Unclassified   \n",
       "\n",
       "    subcategory detail_category  \n",
       "0  Unclassified    Unclassified  \n",
       "1  Unclassified    Unclassified  \n",
       "2  Unclassified    Unclassified  \n",
       "3  Unclassified    Unclassified  \n",
       "4  Unclassified    Unclassified  "
      ]
     },
     "execution_count": 219,
     "metadata": {},
     "output_type": "execute_result"
    }
   ],
   "source": [
    "data.head()"
   ]
  },
  {
   "cell_type": "code",
   "execution_count": 220,
   "metadata": {},
   "outputs": [
    {
     "data": {
      "text/plain": [
       "34"
      ]
     },
     "execution_count": 220,
     "metadata": {},
     "output_type": "execute_result"
    }
   ],
   "source": [
    "# Count null values under entire DataFrame\n",
    "data.isna().sum().sum()"
   ]
  },
  {
   "cell_type": "code",
   "execution_count": 221,
   "metadata": {},
   "outputs": [],
   "source": [
    "data = data.dropna()"
   ]
  },
  {
   "cell_type": "code",
   "execution_count": 222,
   "metadata": {},
   "outputs": [
    {
     "data": {
      "text/plain": [
       "331376"
      ]
     },
     "execution_count": 222,
     "metadata": {},
     "output_type": "execute_result"
    }
   ],
   "source": [
    "# Check whether any duplicated values exist\n",
    "data.duplicated(keep='first').sum()"
   ]
  },
  {
   "cell_type": "code",
   "execution_count": 223,
   "metadata": {},
   "outputs": [],
   "source": [
    "# Delete duplicated values\n",
    "# Keep first duplicate row\n",
    "data = data.drop_duplicates(keep='last')"
   ]
  },
  {
   "cell_type": "code",
   "execution_count": 224,
   "metadata": {},
   "outputs": [
    {
     "data": {
      "text/plain": [
       "(782645, 4)"
      ]
     },
     "execution_count": 224,
     "metadata": {},
     "output_type": "execute_result"
    }
   ],
   "source": [
    "data.shape"
   ]
  },
  {
   "cell_type": "code",
   "execution_count": 225,
   "metadata": {},
   "outputs": [
    {
     "data": {
      "text/plain": [
       "product_name       object\n",
       "category           object\n",
       "subcategory        object\n",
       "detail_category    object\n",
       "dtype: object"
      ]
     },
     "execution_count": 225,
     "metadata": {},
     "output_type": "execute_result"
    }
   ],
   "source": [
    "data.dtypes"
   ]
  },
  {
   "cell_type": "code",
   "execution_count": 226,
   "metadata": {},
   "outputs": [],
   "source": [
    "data['categories'] = data['category'].astype(str)  + \",\" +  data['subcategory'].astype(str) + \",\" +  data['detail_category'].astype(str) "
   ]
  },
  {
   "cell_type": "code",
   "execution_count": 227,
   "metadata": {},
   "outputs": [
    {
     "data": {
      "text/html": [
       "<div>\n",
       "<style scoped>\n",
       "    .dataframe tbody tr th:only-of-type {\n",
       "        vertical-align: middle;\n",
       "    }\n",
       "\n",
       "    .dataframe tbody tr th {\n",
       "        vertical-align: top;\n",
       "    }\n",
       "\n",
       "    .dataframe thead th {\n",
       "        text-align: right;\n",
       "    }\n",
       "</style>\n",
       "<table border=\"1\" class=\"dataframe\">\n",
       "  <thead>\n",
       "    <tr style=\"text-align: right;\">\n",
       "      <th></th>\n",
       "      <th>product_name</th>\n",
       "      <th>category</th>\n",
       "      <th>subcategory</th>\n",
       "      <th>detail_category</th>\n",
       "      <th>categories</th>\n",
       "    </tr>\n",
       "  </thead>\n",
       "  <tbody>\n",
       "    <tr>\n",
       "      <th>0</th>\n",
       "      <td>Atlas Homewares A916-PN 6-5/16 in. Platform Pu...</td>\n",
       "      <td>Unclassified</td>\n",
       "      <td>Unclassified</td>\n",
       "      <td>Unclassified</td>\n",
       "      <td>Unclassified,Unclassified,Unclassified</td>\n",
       "    </tr>\n",
       "    <tr>\n",
       "      <th>1</th>\n",
       "      <td>Atlas Homewares A917 Platform 11-5/16 Inch Cen...</td>\n",
       "      <td>Unclassified</td>\n",
       "      <td>Unclassified</td>\n",
       "      <td>Unclassified</td>\n",
       "      <td>Unclassified,Unclassified,Unclassified</td>\n",
       "    </tr>\n",
       "    <tr>\n",
       "      <th>2</th>\n",
       "      <td>Platform Pull 11 5/16 Inch Polished Chrome</td>\n",
       "      <td>Unclassified</td>\n",
       "      <td>Unclassified</td>\n",
       "      <td>Unclassified</td>\n",
       "      <td>Unclassified,Unclassified,Unclassified</td>\n",
       "    </tr>\n",
       "    <tr>\n",
       "      <th>3</th>\n",
       "      <td>Platform Pull 11 5/16 Inch Polished Nickel</td>\n",
       "      <td>Unclassified</td>\n",
       "      <td>Unclassified</td>\n",
       "      <td>Unclassified</td>\n",
       "      <td>Unclassified,Unclassified,Unclassified</td>\n",
       "    </tr>\n",
       "    <tr>\n",
       "      <th>4</th>\n",
       "      <td>Atlas Homewares A918 Wide Square 3-3/4 Inch Ce...</td>\n",
       "      <td>Unclassified</td>\n",
       "      <td>Unclassified</td>\n",
       "      <td>Unclassified</td>\n",
       "      <td>Unclassified,Unclassified,Unclassified</td>\n",
       "    </tr>\n",
       "  </tbody>\n",
       "</table>\n",
       "</div>"
      ],
      "text/plain": [
       "                                        product_name      category  \\\n",
       "0  Atlas Homewares A916-PN 6-5/16 in. Platform Pu...  Unclassified   \n",
       "1  Atlas Homewares A917 Platform 11-5/16 Inch Cen...  Unclassified   \n",
       "2         Platform Pull 11 5/16 Inch Polished Chrome  Unclassified   \n",
       "3         Platform Pull 11 5/16 Inch Polished Nickel  Unclassified   \n",
       "4  Atlas Homewares A918 Wide Square 3-3/4 Inch Ce...  Unclassified   \n",
       "\n",
       "    subcategory detail_category                              categories  \n",
       "0  Unclassified    Unclassified  Unclassified,Unclassified,Unclassified  \n",
       "1  Unclassified    Unclassified  Unclassified,Unclassified,Unclassified  \n",
       "2  Unclassified    Unclassified  Unclassified,Unclassified,Unclassified  \n",
       "3  Unclassified    Unclassified  Unclassified,Unclassified,Unclassified  \n",
       "4  Unclassified    Unclassified  Unclassified,Unclassified,Unclassified  "
      ]
     },
     "execution_count": 227,
     "metadata": {},
     "output_type": "execute_result"
    }
   ],
   "source": [
    "data.head()"
   ]
  },
  {
   "cell_type": "code",
   "execution_count": 228,
   "metadata": {},
   "outputs": [],
   "source": [
    "for idx, row in data.iterrows():\n",
    "    categories = row[\"categories\"].split(\",\")\n",
    "    category_list = list(set(categories))\n",
    "    categories = \",\".join(cl for cl in category_list)\n",
    "    data[\"categories\"][idx] = categories"
   ]
  },
  {
   "cell_type": "code",
   "execution_count": 229,
   "metadata": {},
   "outputs": [
    {
     "data": {
      "text/html": [
       "<div>\n",
       "<style scoped>\n",
       "    .dataframe tbody tr th:only-of-type {\n",
       "        vertical-align: middle;\n",
       "    }\n",
       "\n",
       "    .dataframe tbody tr th {\n",
       "        vertical-align: top;\n",
       "    }\n",
       "\n",
       "    .dataframe thead th {\n",
       "        text-align: right;\n",
       "    }\n",
       "</style>\n",
       "<table border=\"1\" class=\"dataframe\">\n",
       "  <thead>\n",
       "    <tr style=\"text-align: right;\">\n",
       "      <th></th>\n",
       "      <th>product_name</th>\n",
       "      <th>category</th>\n",
       "      <th>subcategory</th>\n",
       "      <th>detail_category</th>\n",
       "      <th>categories</th>\n",
       "    </tr>\n",
       "  </thead>\n",
       "  <tbody>\n",
       "    <tr>\n",
       "      <th>5</th>\n",
       "      <td>Hemp Elements Omega Bites™ Bag 10ct / Chicken</td>\n",
       "      <td>Dog</td>\n",
       "      <td>Unclassified</td>\n",
       "      <td>Unclassified</td>\n",
       "      <td>Dog,Unclassified</td>\n",
       "    </tr>\n",
       "    <tr>\n",
       "      <th>6</th>\n",
       "      <td>Mushroom Bites™ Bag 10ct / Chicken</td>\n",
       "      <td>Dog</td>\n",
       "      <td>Unclassified</td>\n",
       "      <td>Unclassified</td>\n",
       "      <td>Dog,Unclassified</td>\n",
       "    </tr>\n",
       "    <tr>\n",
       "      <th>7</th>\n",
       "      <td>Salmon Bites™ Bag 10ct / Salmon</td>\n",
       "      <td>Dog</td>\n",
       "      <td>Unclassified</td>\n",
       "      <td>Unclassified</td>\n",
       "      <td>Dog,Unclassified</td>\n",
       "    </tr>\n",
       "    <tr>\n",
       "      <th>8</th>\n",
       "      <td>Senior Vision Bites™ Bag 10ct / Chicken</td>\n",
       "      <td>Dog</td>\n",
       "      <td>Unclassified</td>\n",
       "      <td>Unclassified</td>\n",
       "      <td>Dog,Unclassified</td>\n",
       "    </tr>\n",
       "    <tr>\n",
       "      <th>9</th>\n",
       "      <td>Stay Green Bites™ Jar 90ct / Beef</td>\n",
       "      <td>Dog</td>\n",
       "      <td>Unclassified</td>\n",
       "      <td>Unclassified</td>\n",
       "      <td>Dog,Unclassified</td>\n",
       "    </tr>\n",
       "    <tr>\n",
       "      <th>...</th>\n",
       "      <td>...</td>\n",
       "      <td>...</td>\n",
       "      <td>...</td>\n",
       "      <td>...</td>\n",
       "      <td>...</td>\n",
       "    </tr>\n",
       "    <tr>\n",
       "      <th>1113951</th>\n",
       "      <td>The Table is Lava - Coconuts edition</td>\n",
       "      <td>Unclassified</td>\n",
       "      <td>Unclassified</td>\n",
       "      <td>963Demo</td>\n",
       "      <td>Unclassified,963Demo</td>\n",
       "    </tr>\n",
       "    <tr>\n",
       "      <th>1113954</th>\n",
       "      <td>The Table is Lava</td>\n",
       "      <td>Unclassified</td>\n",
       "      <td>Unclassified</td>\n",
       "      <td>966P</td>\n",
       "      <td>966P,Unclassified</td>\n",
       "    </tr>\n",
       "    <tr>\n",
       "      <th>1113984</th>\n",
       "      <td>Hide &amp; Seek Safari® Monkey II</td>\n",
       "      <td>Unclassified</td>\n",
       "      <td>Unclassified</td>\n",
       "      <td>Hide &amp; Seek Safari Monkey II- Demo</td>\n",
       "      <td>Unclassified,Hide &amp; Seek Safari Monkey II- Demo</td>\n",
       "    </tr>\n",
       "    <tr>\n",
       "      <th>1113988</th>\n",
       "      <td>Time's Up!®</td>\n",
       "      <td>Unclassified</td>\n",
       "      <td>Unclassified</td>\n",
       "      <td>975Demo</td>\n",
       "      <td>Unclassified,975Demo</td>\n",
       "    </tr>\n",
       "    <tr>\n",
       "      <th>1113990</th>\n",
       "      <td>The Table is Lava-demo</td>\n",
       "      <td>Unclassified</td>\n",
       "      <td>Unclassified</td>\n",
       "      <td>966P</td>\n",
       "      <td>966P,Unclassified</td>\n",
       "    </tr>\n",
       "  </tbody>\n",
       "</table>\n",
       "<p>405477 rows × 5 columns</p>\n",
       "</div>"
      ],
      "text/plain": [
       "                                          product_name      category  \\\n",
       "5        Hemp Elements Omega Bites™ Bag 10ct / Chicken           Dog   \n",
       "6                   Mushroom Bites™ Bag 10ct / Chicken           Dog   \n",
       "7                      Salmon Bites™ Bag 10ct / Salmon           Dog   \n",
       "8              Senior Vision Bites™ Bag 10ct / Chicken           Dog   \n",
       "9                    Stay Green Bites™ Jar 90ct / Beef           Dog   \n",
       "...                                                ...           ...   \n",
       "1113951           The Table is Lava - Coconuts edition  Unclassified   \n",
       "1113954                              The Table is Lava  Unclassified   \n",
       "1113984                  Hide & Seek Safari® Monkey II  Unclassified   \n",
       "1113988                                    Time's Up!®  Unclassified   \n",
       "1113990                         The Table is Lava-demo  Unclassified   \n",
       "\n",
       "          subcategory                     detail_category  \\\n",
       "5        Unclassified                        Unclassified   \n",
       "6        Unclassified                        Unclassified   \n",
       "7        Unclassified                        Unclassified   \n",
       "8        Unclassified                        Unclassified   \n",
       "9        Unclassified                        Unclassified   \n",
       "...               ...                                 ...   \n",
       "1113951  Unclassified                             963Demo   \n",
       "1113954  Unclassified                                966P   \n",
       "1113984  Unclassified  Hide & Seek Safari Monkey II- Demo   \n",
       "1113988  Unclassified                             975Demo   \n",
       "1113990  Unclassified                                966P   \n",
       "\n",
       "                                              categories  \n",
       "5                                       Dog,Unclassified  \n",
       "6                                       Dog,Unclassified  \n",
       "7                                       Dog,Unclassified  \n",
       "8                                       Dog,Unclassified  \n",
       "9                                       Dog,Unclassified  \n",
       "...                                                  ...  \n",
       "1113951                             Unclassified,963Demo  \n",
       "1113954                                966P,Unclassified  \n",
       "1113984  Unclassified,Hide & Seek Safari Monkey II- Demo  \n",
       "1113988                             Unclassified,975Demo  \n",
       "1113990                                966P,Unclassified  \n",
       "\n",
       "[405477 rows x 5 columns]"
      ]
     },
     "execution_count": 229,
     "metadata": {},
     "output_type": "execute_result"
    }
   ],
   "source": [
    "data[data['categories'] != \"Unclassified\"]"
   ]
  },
  {
   "cell_type": "code",
   "execution_count": 230,
   "metadata": {},
   "outputs": [],
   "source": [
    "data.to_csv(\"merged_categories.csv\")"
   ]
  }
 ],
 "metadata": {
  "kernelspec": {
   "display_name": "Python 3",
   "language": "python",
   "name": "python3"
  },
  "language_info": {
   "codemirror_mode": {
    "name": "ipython",
    "version": 3
   },
   "file_extension": ".py",
   "mimetype": "text/x-python",
   "name": "python",
   "nbconvert_exporter": "python",
   "pygments_lexer": "ipython3",
   "version": "3.7.6"
  }
 },
 "nbformat": 4,
 "nbformat_minor": 4
}
